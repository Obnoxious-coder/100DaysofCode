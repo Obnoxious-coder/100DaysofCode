{
 "cells": [
  {
   "cell_type": "code",
   "execution_count": 1,
   "metadata": {},
   "outputs": [],
   "source": [
    "import cv2\n",
    "import numpy as np"
   ]
  },
  {
   "cell_type": "code",
   "execution_count": 2,
   "metadata": {},
   "outputs": [],
   "source": [
    "def empty(a):\n",
    "    pass"
   ]
  },
  {
   "cell_type": "code",
   "execution_count": 3,
   "metadata": {},
   "outputs": [],
   "source": [
    "img=cv2.imread('lena.jpg')\n",
    "cv2.namedWindow(\"TBars\")\n",
    "cv2.resizeWindow(\"TBars\",640,230)\n",
    "cv2.createTrackbar(\"Hue Min\",\"TBars\",0,179,empty)\n",
    "cv2.createTrackbar(\"Hue Max\",\"TBars\",179,179,empty)\n",
    "cv2.createTrackbar(\"Sat Min\",\"TBars\",0,255,empty)\n",
    "cv2.createTrackbar(\"Sat Max\",\"TBars\",255,255,empty)\n",
    "cv2.createTrackbar(\"Val Min\",\"TBars\",0,255,empty)\n",
    "cv2.createTrackbar(\"Val Max\",\"TBars\",255,255,empty)"
   ]
  },
  {
   "cell_type": "code",
   "execution_count": null,
   "metadata": {},
   "outputs": [],
   "source": []
  },
  {
   "cell_type": "code",
   "execution_count": 5,
   "metadata": {},
   "outputs": [],
   "source": [
    "while(True):\n",
    "    imgHSV=cv2.cvtColor(img,cv2.COLOR_BGR2HSV)\n",
    "    h_min=cv2.getTrackbarPos(\"Hue Min\",\"TBars\")\n",
    "    h_max=cv2.getTrackbarPos(\"Hue Max\",\"TBars\")\n",
    "    s_min=cv2.getTrackbarPos(\"Sat Min\",\"TBars\")\n",
    "    s_max=cv2.getTrackbarPos(\"Sat Max\",\"TBars\")\n",
    "    v_min=cv2.getTrackbarPos(\"Val Min\",\"TBars\")\n",
    "    v_max=cv2.getTrackbarPos(\"Val Max\",\"TBars\")\n",
    "    lower=np.array([h_min,s_min,v_min])\n",
    "    higher=np.array([h_max,s_max,v_max])\n",
    "    mask=cv2.inRange(imgHSV,lower,higher)\n",
    "#   imgResult=cv2.bitwise_and(img,img,mask=mask)\n",
    "    cv2.imshow('imgHSV',imgHSV)\n",
    "    cv2.imshow('img',img)\n",
    "    cv2.imshow('Mask',mask)\n",
    "    if cv2.waitKey(1) & 0xFF==ord('q'):\n",
    "        break"
   ]
  },
  {
   "cell_type": "code",
   "execution_count": null,
   "metadata": {},
   "outputs": [],
   "source": []
  }
 ],
 "metadata": {
  "kernelspec": {
   "display_name": "Python 3",
   "language": "python",
   "name": "python3"
  },
  "language_info": {
   "codemirror_mode": {
    "name": "ipython",
    "version": 3
   },
   "file_extension": ".py",
   "mimetype": "text/x-python",
   "name": "python",
   "nbconvert_exporter": "python",
   "pygments_lexer": "ipython3",
   "version": "3.8.1"
  }
 },
 "nbformat": 4,
 "nbformat_minor": 4
}
